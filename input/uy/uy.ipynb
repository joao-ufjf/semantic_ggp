{
 "cells": [
  {
   "cell_type": "code",
   "execution_count": 113,
   "id": "solar-lawrence",
   "metadata": {},
   "outputs": [],
   "source": [
    "import numpy as np\n",
    "import random\n",
    "import pandas as pd\n",
    "import matplotlib.pyplot as plt\n",
    "import os\n",
    "import shutil"
   ]
  },
  {
   "cell_type": "markdown",
   "id": "1c1e7ea3",
   "metadata": {},
   "source": [
    "# As funções são as mesmas do Uy 2010"
   ]
  },
  {
   "cell_type": "code",
   "execution_count": 114,
   "id": "929c8050",
   "metadata": {},
   "outputs": [],
   "source": [
    "def f1(x):\n",
    "    return (x[0] ** 3) + (x[0] ** 2) + (x[0] ** 1)"
   ]
  },
  {
   "cell_type": "code",
   "execution_count": 115,
   "id": "62a881ec",
   "metadata": {},
   "outputs": [],
   "source": [
    "def f2(x):\n",
    "    return (x[0] ** 4) + (x[0] ** 3) + (x[0] ** 2) + (x[0] ** 1)"
   ]
  },
  {
   "cell_type": "code",
   "execution_count": 116,
   "id": "ae4a98b9",
   "metadata": {},
   "outputs": [],
   "source": [
    "def f3(x):\n",
    "    return (x[0] ** 5) + (x[0] ** 4) + (x[0] ** 3) + (x[0] ** 2) + (x[0] ** 1)"
   ]
  },
  {
   "cell_type": "code",
   "execution_count": 117,
   "id": "c84d4385",
   "metadata": {},
   "outputs": [],
   "source": [
    "def f4(x):\n",
    "    return (x[0] ** 6) + (x[0] ** 5) + (x[0] ** 4) + (x[0] ** 3) + (x[0] ** 2) + (x[0] ** 1)"
   ]
  },
  {
   "cell_type": "code",
   "execution_count": 118,
   "id": "66009b48",
   "metadata": {},
   "outputs": [],
   "source": [
    "def f5(x):\n",
    "    return np.sin(x[0] ** 2) * np.cos(x[0]) - 1"
   ]
  },
  {
   "cell_type": "code",
   "execution_count": 119,
   "id": "2fadc83c",
   "metadata": {},
   "outputs": [],
   "source": [
    "def f6(x):\n",
    "    return np.sin(x[0]) + np.sin(x[0] + (x[0] ** 2))"
   ]
  },
  {
   "cell_type": "code",
   "execution_count": 120,
   "id": "824ba0d5",
   "metadata": {},
   "outputs": [],
   "source": [
    "def f7(x):\n",
    "    return np.log(x[0] + 1) + np.log((x[0] ** 2) + 1)"
   ]
  },
  {
   "cell_type": "code",
   "execution_count": 121,
   "id": "058b9d06",
   "metadata": {},
   "outputs": [],
   "source": [
    "def f8(x):\n",
    "    return np.sqrt(x[0])"
   ]
  },
  {
   "cell_type": "code",
   "execution_count": 122,
   "id": "57eff8a2",
   "metadata": {},
   "outputs": [],
   "source": [
    "def f9(x):\n",
    "    return np.sin(x[0]) + np.sin((x[1] ** 2))"
   ]
  },
  {
   "cell_type": "code",
   "execution_count": 123,
   "id": "3c2428d5",
   "metadata": {},
   "outputs": [],
   "source": [
    "def f10(x):\n",
    "    return 2 * np.sin(x[0])*np.cos(x[1])"
   ]
  },
  {
   "cell_type": "code",
   "execution_count": 124,
   "id": "df08714b",
   "metadata": {},
   "outputs": [],
   "source": [
    "functions = {\n",
    "    'f1':   { 'f': f1,  'vars': 1, 'points': 20,  'min': -1, 'max': 1},\n",
    "    'f2':   { 'f': f2,  'vars': 1, 'points': 20,  'min': -1, 'max': 1},\n",
    "    'f3':   { 'f': f3,  'vars': 1, 'points': 20,  'min': -1, 'max': 1},\n",
    "    'f4':   { 'f': f4,  'vars': 1, 'points': 20,  'min': -1, 'max': 1},\n",
    "    'f5':   { 'f': f5,  'vars': 1, 'points': 20,  'min': -1, 'max': 1},\n",
    "    'f6':   { 'f': f6,  'vars': 1, 'points': 20,  'min': -1, 'max': 1},\n",
    "    'f7':   { 'f': f7,  'vars': 1, 'points': 20,  'min':  0, 'max': 2},\n",
    "    'f8':   { 'f': f8,  'vars': 1, 'points': 20,  'min':  0, 'max': 4},\n",
    "    'f9':   { 'f': f9,  'vars': 2, 'points': 100, 'min': -1, 'max': 1},\n",
    "    'f10':  { 'f': f10, 'vars': 2, 'points': 100, 'min': -1, 'max': 1},\n",
    "}"
   ]
  },
  {
   "cell_type": "code",
   "execution_count": 125,
   "id": "f730b024",
   "metadata": {},
   "outputs": [],
   "source": [
    "def makedir(path):\n",
    "    try:\n",
    "        if os.path.exists(path):\n",
    "            if os.path.isdir(path):\n",
    "                shutil.rmtree(path)\n",
    "                print(f\"A pasta '{path}' foi excluída com sucesso.\")\n",
    "            else:\n",
    "                print(f\"'{path}' não é uma pasta.\")\n",
    "        \n",
    "        os.mkdir(path)\n",
    "        # print(f\"Pasta '{path}' criada.\")\n",
    "    except Exception as e:\n",
    "        print(f\"Erro ao excluir a pasta '{path}': {e}\")"
   ]
  },
  {
   "cell_type": "code",
   "execution_count": 126,
   "id": "7ab19b93",
   "metadata": {},
   "outputs": [
    {
     "name": "stdout",
     "output_type": "stream",
     "text": [
      "A pasta 'fs' foi excluída com sucesso.\n",
      "{'f': <function f1 at 0x730232896830>, 'vars': 1, 'points': 20, 'min': -1, 'max': 1}\n",
      "{'f': <function f2 at 0x730231a36cb0>, 'vars': 1, 'points': 20, 'min': -1, 'max': 1}\n",
      "{'f': <function f3 at 0x730231a37520>, 'vars': 1, 'points': 20, 'min': -1, 'max': 1}\n",
      "{'f': <function f4 at 0x730231a36b00>, 'vars': 1, 'points': 20, 'min': -1, 'max': 1}\n",
      "{'f': <function f5 at 0x730231a35480>, 'vars': 1, 'points': 20, 'min': -1, 'max': 1}\n",
      "{'f': <function f6 at 0x730231a365f0>, 'vars': 1, 'points': 20, 'min': -1, 'max': 1}\n",
      "{'f': <function f7 at 0x730231a367a0>, 'vars': 1, 'points': 20, 'min': 0, 'max': 2}\n",
      "{'f': <function f8 at 0x730231a371c0>, 'vars': 1, 'points': 20, 'min': 0, 'max': 4}\n",
      "{'f': <function f9 at 0x730231a35fc0>, 'vars': 2, 'points': 100, 'min': -1, 'max': 1}\n",
      "{'f': <function f10 at 0x7302328969e0>, 'vars': 2, 'points': 100, 'min': -1, 'max': 1}\n"
     ]
    }
   ],
   "source": [
    "makedir(\"fs\")\n",
    "\n",
    "for f in functions:\n",
    "    function = functions[f]\n",
    "    print(function)\n",
    "\n",
    "    test_df = np.random.uniform(\n",
    "        low=function['min'], \n",
    "        high=function['max'], \n",
    "        size=(1000, function['vars'])\n",
    "    )\n",
    "    test_df = pd.DataFrame(test_df)\n",
    "    test_df['f'] = test_df.apply(function['f'], axis=1)\n",
    "\n",
    "    makedir(\"fs/\" + f)\n",
    "\n",
    "    with open(\"fs/\" + f + \"/data\", \"w\") as file:\n",
    "        file.write(str(function['vars']))\n",
    "        file.write(\" \")\n",
    "        file.write(str(1))\n",
    "        file.write(\" \")\n",
    "        file.write(str(0))\n",
    "        file.write(\" \")\n",
    "        file.write(str(function['points'] * 2 + 1000))\n",
    "        file.write(\"\\n\")\n",
    "\n",
    "        for x in [\"x\" + str(i + 1) for i in range(function['vars'])]:\n",
    "            file.write(x)\n",
    "            file.write(\" \")\n",
    "\n",
    "        file.write(\"f\")\n",
    "        file.write(\"\\n\")\n",
    "\n",
    "        tv_df = np.random.uniform(\n",
    "            low=function['min'], \n",
    "            high=function['max'], \n",
    "            size=(function['points'] * 2, function['vars'])\n",
    "        )\n",
    "        tv_df = pd.DataFrame(tv_df)\n",
    "        tv_df['f'] = tv_df.apply(function['f'], axis=1)\n",
    "        tv_df = pd.concat([tv_df, test_df])\n",
    "\n",
    "        for index, row in tv_df.iterrows():\n",
    "            for i, element in enumerate(row):\n",
    "                file.write(str(element))\n",
    "                \n",
    "                if i < len(row) - 1:\n",
    "                    file.write(\" \")\n",
    "                elif index < len(tv_df) - 1:\n",
    "                    file.write(\"\\n\")\n",
    "        file.close()"
   ]
  },
  {
   "cell_type": "code",
   "execution_count": 127,
   "id": "bd9a2f3c",
   "metadata": {},
   "outputs": [
    {
     "name": "stdout",
     "output_type": "stream",
     "text": [
      "[ 0  1  2  3  4  5  6  7  8  9 10 11 12 13 14 15 16 17 18 19 20 21 22 23\n",
      " 24 25 26 27 28 29 30 31 32 33 34 35 36 37 38 39]\n",
      "[  0   1   2   3   4   5   6   7   8   9  10  11  12  13  14  15  16  17\n",
      "  18  19  20  21  22  23  24  25  26  27  28  29  30  31  32  33  34  35\n",
      "  36  37  38  39  40  41  42  43  44  45  46  47  48  49  50  51  52  53\n",
      "  54  55  56  57  58  59  60  61  62  63  64  65  66  67  68  69  70  71\n",
      "  72  73  74  75  76  77  78  79  80  81  82  83  84  85  86  87  88  89\n",
      "  90  91  92  93  94  95  96  97  98  99 100 101 102 103 104 105 106 107\n",
      " 108 109 110 111 112 113 114 115 116 117 118 119 120 121 122 123 124 125\n",
      " 126 127 128 129 130 131 132 133 134 135 136 137 138 139 140 141 142 143\n",
      " 144 145 146 147 148 149 150 151 152 153 154 155 156 157 158 159 160 161\n",
      " 162 163 164 165 166 167 168 169 170 171 172 173 174 175 176 177 178 179\n",
      " 180 181 182 183 184 185 186 187 188 189 190 191 192 193 194 195 196 197\n",
      " 198 199]\n"
     ]
    }
   ],
   "source": [
    "makedir(\"fs/groups\")\n",
    "\n",
    "for amount in [20, 100]:\n",
    "    indices = np.arange(amount * 2)\n",
    "    print(indices)\n",
    "    np.random.shuffle(indices)\n",
    "    folds = np.array_split(indices, 5)\n",
    "\n",
    "    test = range(amount * 2, amount * 2 + 1000)\n",
    "    \n",
    "    for s in range(100):\n",
    "        f = s % 5\n",
    "        with open(f\"fs/groups/{amount}_{f}\", \"w\") as group:\n",
    "            train = amount\n",
    "            validation = amount\n",
    "\n",
    "            group.write(str(train) + ' ')\n",
    "            group.write(str(validation) + ' ')\n",
    "            group.write(str(len(test)) + '\\n')\n",
    "\n",
    "            for f_index, fold in enumerate(folds):\n",
    "                if f_index != f:\n",
    "                    for n in fold:\n",
    "                        group.write(str(n) + ' ')\n",
    "\n",
    "            for index in test:\n",
    "                group.write(str(index) + ' ')\n",
    "\n",
    "            group.close()"
   ]
  }
 ],
 "metadata": {
  "kernelspec": {
   "display_name": "Python 3 (ipykernel)",
   "language": "python",
   "name": "python3"
  },
  "language_info": {
   "codemirror_mode": {
    "name": "ipython",
    "version": 3
   },
   "file_extension": ".py",
   "mimetype": "text/x-python",
   "name": "python",
   "nbconvert_exporter": "python",
   "pygments_lexer": "ipython3",
   "version": "3.10.13"
  }
 },
 "nbformat": 4,
 "nbformat_minor": 5
}
